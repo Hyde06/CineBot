{
 "cells": [
  {
   "cell_type": "markdown",
   "id": "1a989ddd",
   "metadata": {},
   "source": [
    "# Importing Libraries"
   ]
  },
  {
   "cell_type": "code",
   "execution_count": 2,
   "id": "13a1533d",
   "metadata": {
    "ExecuteTime": {
     "end_time": "2024-07-15T16:18:53.208746Z",
     "start_time": "2024-07-15T16:18:49.676973Z"
    }
   },
   "outputs": [],
   "source": [
    "import pandas as pd\n",
    "import numpy as np\n",
    "import matplotlib as plt\n",
    "import seaborn as sns\n",
    "import os"
   ]
  },
  {
   "cell_type": "markdown",
   "id": "9d919ffd",
   "metadata": {},
   "source": [
    "# Loading the Movie Lens Data"
   ]
  },
  {
   "cell_type": "code",
   "execution_count": 2,
   "id": "ae918535",
   "metadata": {},
   "outputs": [],
   "source": [
    "base_dir = os.path.join('..', 'data', 'raw_data', 'ml-latest-small')\n",
    "\n",
    "links_path = os.path.join(base_dir, 'links.csv')\n",
    "movies_path = os.path.join(base_dir, 'movies.csv')\n",
    "\n",
    "links_df = pd.read_csv(links_path)\n",
    "movies_df = pd.read_csv(movies_path)"
   ]
  },
  {
   "cell_type": "code",
   "execution_count": 3,
   "id": "6941f6c1",
   "metadata": {},
   "outputs": [
    {
     "data": {
      "text/html": [
       "<div>\n",
       "<style scoped>\n",
       "    .dataframe tbody tr th:only-of-type {\n",
       "        vertical-align: middle;\n",
       "    }\n",
       "\n",
       "    .dataframe tbody tr th {\n",
       "        vertical-align: top;\n",
       "    }\n",
       "\n",
       "    .dataframe thead th {\n",
       "        text-align: right;\n",
       "    }\n",
       "</style>\n",
       "<table border=\"1\" class=\"dataframe\">\n",
       "  <thead>\n",
       "    <tr style=\"text-align: right;\">\n",
       "      <th></th>\n",
       "      <th>movieId</th>\n",
       "      <th>imdbId</th>\n",
       "      <th>tmdbId</th>\n",
       "    </tr>\n",
       "  </thead>\n",
       "  <tbody>\n",
       "    <tr>\n",
       "      <th>0</th>\n",
       "      <td>1</td>\n",
       "      <td>114709</td>\n",
       "      <td>862.0</td>\n",
       "    </tr>\n",
       "    <tr>\n",
       "      <th>1</th>\n",
       "      <td>2</td>\n",
       "      <td>113497</td>\n",
       "      <td>8844.0</td>\n",
       "    </tr>\n",
       "    <tr>\n",
       "      <th>2</th>\n",
       "      <td>3</td>\n",
       "      <td>113228</td>\n",
       "      <td>15602.0</td>\n",
       "    </tr>\n",
       "    <tr>\n",
       "      <th>3</th>\n",
       "      <td>4</td>\n",
       "      <td>114885</td>\n",
       "      <td>31357.0</td>\n",
       "    </tr>\n",
       "    <tr>\n",
       "      <th>4</th>\n",
       "      <td>5</td>\n",
       "      <td>113041</td>\n",
       "      <td>11862.0</td>\n",
       "    </tr>\n",
       "  </tbody>\n",
       "</table>\n",
       "</div>"
      ],
      "text/plain": [
       "   movieId  imdbId   tmdbId\n",
       "0        1  114709    862.0\n",
       "1        2  113497   8844.0\n",
       "2        3  113228  15602.0\n",
       "3        4  114885  31357.0\n",
       "4        5  113041  11862.0"
      ]
     },
     "execution_count": 3,
     "metadata": {},
     "output_type": "execute_result"
    }
   ],
   "source": [
    "links_df.head()"
   ]
  },
  {
   "cell_type": "code",
   "execution_count": 4,
   "id": "4e247a03",
   "metadata": {},
   "outputs": [
    {
     "data": {
      "text/html": [
       "<div>\n",
       "<style scoped>\n",
       "    .dataframe tbody tr th:only-of-type {\n",
       "        vertical-align: middle;\n",
       "    }\n",
       "\n",
       "    .dataframe tbody tr th {\n",
       "        vertical-align: top;\n",
       "    }\n",
       "\n",
       "    .dataframe thead th {\n",
       "        text-align: right;\n",
       "    }\n",
       "</style>\n",
       "<table border=\"1\" class=\"dataframe\">\n",
       "  <thead>\n",
       "    <tr style=\"text-align: right;\">\n",
       "      <th></th>\n",
       "      <th>movieId</th>\n",
       "      <th>title</th>\n",
       "      <th>genres</th>\n",
       "    </tr>\n",
       "  </thead>\n",
       "  <tbody>\n",
       "    <tr>\n",
       "      <th>0</th>\n",
       "      <td>1</td>\n",
       "      <td>Toy Story (1995)</td>\n",
       "      <td>Adventure|Animation|Children|Comedy|Fantasy</td>\n",
       "    </tr>\n",
       "    <tr>\n",
       "      <th>1</th>\n",
       "      <td>2</td>\n",
       "      <td>Jumanji (1995)</td>\n",
       "      <td>Adventure|Children|Fantasy</td>\n",
       "    </tr>\n",
       "    <tr>\n",
       "      <th>2</th>\n",
       "      <td>3</td>\n",
       "      <td>Grumpier Old Men (1995)</td>\n",
       "      <td>Comedy|Romance</td>\n",
       "    </tr>\n",
       "    <tr>\n",
       "      <th>3</th>\n",
       "      <td>4</td>\n",
       "      <td>Waiting to Exhale (1995)</td>\n",
       "      <td>Comedy|Drama|Romance</td>\n",
       "    </tr>\n",
       "    <tr>\n",
       "      <th>4</th>\n",
       "      <td>5</td>\n",
       "      <td>Father of the Bride Part II (1995)</td>\n",
       "      <td>Comedy</td>\n",
       "    </tr>\n",
       "  </tbody>\n",
       "</table>\n",
       "</div>"
      ],
      "text/plain": [
       "   movieId                               title  \\\n",
       "0        1                    Toy Story (1995)   \n",
       "1        2                      Jumanji (1995)   \n",
       "2        3             Grumpier Old Men (1995)   \n",
       "3        4            Waiting to Exhale (1995)   \n",
       "4        5  Father of the Bride Part II (1995)   \n",
       "\n",
       "                                        genres  \n",
       "0  Adventure|Animation|Children|Comedy|Fantasy  \n",
       "1                   Adventure|Children|Fantasy  \n",
       "2                               Comedy|Romance  \n",
       "3                         Comedy|Drama|Romance  \n",
       "4                                       Comedy  "
      ]
     },
     "execution_count": 4,
     "metadata": {},
     "output_type": "execute_result"
    }
   ],
   "source": [
    "movies_df.head()"
   ]
  },
  {
   "cell_type": "code",
   "execution_count": 5,
   "id": "67beab94",
   "metadata": {},
   "outputs": [
    {
     "name": "stdout",
     "output_type": "stream",
     "text": [
      "Shape of final merged dataset: (9742, 5)\n"
     ]
    },
    {
     "data": {
      "text/html": [
       "<div>\n",
       "<style scoped>\n",
       "    .dataframe tbody tr th:only-of-type {\n",
       "        vertical-align: middle;\n",
       "    }\n",
       "\n",
       "    .dataframe tbody tr th {\n",
       "        vertical-align: top;\n",
       "    }\n",
       "\n",
       "    .dataframe thead th {\n",
       "        text-align: right;\n",
       "    }\n",
       "</style>\n",
       "<table border=\"1\" class=\"dataframe\">\n",
       "  <thead>\n",
       "    <tr style=\"text-align: right;\">\n",
       "      <th></th>\n",
       "      <th>movieId</th>\n",
       "      <th>title</th>\n",
       "      <th>genres</th>\n",
       "      <th>imdbId</th>\n",
       "      <th>tmdbId</th>\n",
       "    </tr>\n",
       "  </thead>\n",
       "  <tbody>\n",
       "    <tr>\n",
       "      <th>0</th>\n",
       "      <td>1</td>\n",
       "      <td>Toy Story (1995)</td>\n",
       "      <td>Adventure|Animation|Children|Comedy|Fantasy</td>\n",
       "      <td>114709</td>\n",
       "      <td>862.0</td>\n",
       "    </tr>\n",
       "    <tr>\n",
       "      <th>1</th>\n",
       "      <td>2</td>\n",
       "      <td>Jumanji (1995)</td>\n",
       "      <td>Adventure|Children|Fantasy</td>\n",
       "      <td>113497</td>\n",
       "      <td>8844.0</td>\n",
       "    </tr>\n",
       "    <tr>\n",
       "      <th>2</th>\n",
       "      <td>3</td>\n",
       "      <td>Grumpier Old Men (1995)</td>\n",
       "      <td>Comedy|Romance</td>\n",
       "      <td>113228</td>\n",
       "      <td>15602.0</td>\n",
       "    </tr>\n",
       "    <tr>\n",
       "      <th>3</th>\n",
       "      <td>4</td>\n",
       "      <td>Waiting to Exhale (1995)</td>\n",
       "      <td>Comedy|Drama|Romance</td>\n",
       "      <td>114885</td>\n",
       "      <td>31357.0</td>\n",
       "    </tr>\n",
       "    <tr>\n",
       "      <th>4</th>\n",
       "      <td>5</td>\n",
       "      <td>Father of the Bride Part II (1995)</td>\n",
       "      <td>Comedy</td>\n",
       "      <td>113041</td>\n",
       "      <td>11862.0</td>\n",
       "    </tr>\n",
       "  </tbody>\n",
       "</table>\n",
       "</div>"
      ],
      "text/plain": [
       "   movieId                               title  \\\n",
       "0        1                    Toy Story (1995)   \n",
       "1        2                      Jumanji (1995)   \n",
       "2        3             Grumpier Old Men (1995)   \n",
       "3        4            Waiting to Exhale (1995)   \n",
       "4        5  Father of the Bride Part II (1995)   \n",
       "\n",
       "                                        genres  imdbId   tmdbId  \n",
       "0  Adventure|Animation|Children|Comedy|Fantasy  114709    862.0  \n",
       "1                   Adventure|Children|Fantasy  113497   8844.0  \n",
       "2                               Comedy|Romance  113228  15602.0  \n",
       "3                         Comedy|Drama|Romance  114885  31357.0  \n",
       "4                                       Comedy  113041  11862.0  "
      ]
     },
     "execution_count": 5,
     "metadata": {},
     "output_type": "execute_result"
    }
   ],
   "source": [
    "# First merge movies with links to get TMDB and IMDB IDs\n",
    "movielens_df = pd.merge(movies_df, links_df, on='movieId', how='left')\n",
    "\n",
    "# Display first few rows of final merged dataset\n",
    "print(\"Shape of final merged dataset:\", movielens_df.shape)\n",
    "movielens_df.head()\n"
   ]
  },
  {
   "cell_type": "code",
   "execution_count": 6,
   "id": "c1c84496",
   "metadata": {},
   "outputs": [],
   "source": [
    "# Convert tmdbId to integer type, handling any NaN values first\n",
    "movielens_df['tmdbId'] = movielens_df['tmdbId'].fillna(-1).astype(int)\n"
   ]
  },
  {
   "cell_type": "code",
   "execution_count": 7,
   "id": "ae13d8bb",
   "metadata": {},
   "outputs": [],
   "source": [
    "# Save the processed DataFrame to a CSV file\n",
    "processed_dir = os.path.join('..', 'data', 'processed_data')\n",
    "os.makedirs(processed_dir, exist_ok=True)\n",
    "\n",
    "processed_path = os.path.join(processed_dir, 'movielens_content_processed.csv')\n",
    "movielens_df.to_csv(processed_path, index=False)"
   ]
  },
  {
   "cell_type": "markdown",
   "id": "08cbe05c",
   "metadata": {},
   "source": [
    "# Movie Content Data"
   ]
  },
  {
   "cell_type": "code",
   "execution_count": 3,
   "id": "7f1f1070",
   "metadata": {},
   "outputs": [],
   "source": [
    "base_dir = os.path.join('..', 'data', 'raw_data')\n",
    "path = os.path.join(base_dir, 'movies_data_final.csv')\n",
    "movies_df = pd.read_csv(path)"
   ]
  },
  {
   "cell_type": "code",
   "execution_count": 4,
   "id": "577429b7",
   "metadata": {},
   "outputs": [
    {
     "data": {
      "text/html": [
       "<div>\n",
       "<style scoped>\n",
       "    .dataframe tbody tr th:only-of-type {\n",
       "        vertical-align: middle;\n",
       "    }\n",
       "\n",
       "    .dataframe tbody tr th {\n",
       "        vertical-align: top;\n",
       "    }\n",
       "\n",
       "    .dataframe thead th {\n",
       "        text-align: right;\n",
       "    }\n",
       "</style>\n",
       "<table border=\"1\" class=\"dataframe\">\n",
       "  <thead>\n",
       "    <tr style=\"text-align: right;\">\n",
       "      <th></th>\n",
       "      <th>title</th>\n",
       "      <th>release_date</th>\n",
       "      <th>revenue</th>\n",
       "      <th>runtime</th>\n",
       "      <th>imdb_id</th>\n",
       "      <th>original_language</th>\n",
       "      <th>overview</th>\n",
       "      <th>production_companies</th>\n",
       "      <th>spoken_languages</th>\n",
       "      <th>plot_summary</th>\n",
       "      <th>plot_synopsis</th>\n",
       "      <th>genres</th>\n",
       "      <th>cast</th>\n",
       "      <th>directors</th>\n",
       "      <th>averageRating</th>\n",
       "      <th>numVotes</th>\n",
       "      <th>release_year</th>\n",
       "      <th>release_month</th>\n",
       "      <th>release_day</th>\n",
       "    </tr>\n",
       "  </thead>\n",
       "  <tbody>\n",
       "    <tr>\n",
       "      <th>0</th>\n",
       "      <td>Inception</td>\n",
       "      <td>2010-07-15</td>\n",
       "      <td>825532764</td>\n",
       "      <td>148</td>\n",
       "      <td>tt1375666</td>\n",
       "      <td>English</td>\n",
       "      <td>Cobb, a skilled thief who commits corporate es...</td>\n",
       "      <td>Legendary Pictures, Syncopy, Warner Bros. Pict...</td>\n",
       "      <td>English, French, Japanese, Swahili</td>\n",
       "      <td>Dom Cobb is a skilled thief, the absolute best...</td>\n",
       "      <td>Dominick \"Dom\" Cobb (Leonardo DiCaprio) and bu...</td>\n",
       "      <td>Action, Adventure, Sci-Fi, Thriller</td>\n",
       "      <td>Leonardo DiCaprio, Joseph Gordon-Levitt, Ellio...</td>\n",
       "      <td>Christopher Nolan</td>\n",
       "      <td>8.8</td>\n",
       "      <td>2681459</td>\n",
       "      <td>2010</td>\n",
       "      <td>7</td>\n",
       "      <td>15</td>\n",
       "    </tr>\n",
       "    <tr>\n",
       "      <th>1</th>\n",
       "      <td>Interstellar</td>\n",
       "      <td>2014-11-05</td>\n",
       "      <td>701729206</td>\n",
       "      <td>169</td>\n",
       "      <td>tt0816692</td>\n",
       "      <td>English</td>\n",
       "      <td>The adventures of a group of explorers who mak...</td>\n",
       "      <td>Legendary Pictures, Syncopy, Lynda Obst Produc...</td>\n",
       "      <td>English</td>\n",
       "      <td>In the near future around the American Midwest...</td>\n",
       "      <td>In the future, crop blight has caused civiliza...</td>\n",
       "      <td>Adventure, Drama, Sci-Fi</td>\n",
       "      <td>Ellen Burstyn, Matthew McConaughey, Mackenzie ...</td>\n",
       "      <td>Christopher Nolan</td>\n",
       "      <td>8.7</td>\n",
       "      <td>2342692</td>\n",
       "      <td>2014</td>\n",
       "      <td>11</td>\n",
       "      <td>5</td>\n",
       "    </tr>\n",
       "    <tr>\n",
       "      <th>2</th>\n",
       "      <td>The Dark Knight</td>\n",
       "      <td>2008-07-16</td>\n",
       "      <td>1004558444</td>\n",
       "      <td>152</td>\n",
       "      <td>tt0468569</td>\n",
       "      <td>English</td>\n",
       "      <td>Batman raises the stakes in his war on crime. ...</td>\n",
       "      <td>DC Comics, Legendary Pictures, Syncopy, Isobel...</td>\n",
       "      <td>English, Mandarin</td>\n",
       "      <td>Set within a year after the events of Batman B...</td>\n",
       "      <td>A gang of 6 criminals rob a Gotham City mob ba...</td>\n",
       "      <td>Action, Crime, Drama, Thriller</td>\n",
       "      <td>Christian Bale, Heath Ledger, Aaron Eckhart, M...</td>\n",
       "      <td>Christopher Nolan</td>\n",
       "      <td>9.0</td>\n",
       "      <td>3018672</td>\n",
       "      <td>2008</td>\n",
       "      <td>7</td>\n",
       "      <td>16</td>\n",
       "    </tr>\n",
       "    <tr>\n",
       "      <th>3</th>\n",
       "      <td>Avatar</td>\n",
       "      <td>2009-12-15</td>\n",
       "      <td>2923706026</td>\n",
       "      <td>162</td>\n",
       "      <td>tt0499549</td>\n",
       "      <td>English</td>\n",
       "      <td>In the 22nd century, a paraplegic Marine is di...</td>\n",
       "      <td>Dune Entertainment, Lightstorm Entertainment, ...</td>\n",
       "      <td>English, Spanish</td>\n",
       "      <td>When his brother is killed in a robbery, parap...</td>\n",
       "      <td>In 2154, humans have depleted Earth's natural ...</td>\n",
       "      <td>Action, Adventure, Fantasy, Sci-Fi</td>\n",
       "      <td>Sam Worthington, Zoe Saldaña, Sigourney Weaver...</td>\n",
       "      <td>James Cameron</td>\n",
       "      <td>7.9</td>\n",
       "      <td>1430332</td>\n",
       "      <td>2009</td>\n",
       "      <td>12</td>\n",
       "      <td>15</td>\n",
       "    </tr>\n",
       "    <tr>\n",
       "      <th>4</th>\n",
       "      <td>The Avengers</td>\n",
       "      <td>2012-04-25</td>\n",
       "      <td>1518815515</td>\n",
       "      <td>143</td>\n",
       "      <td>tt0848228</td>\n",
       "      <td>English</td>\n",
       "      <td>When an unexpected enemy emerges and threatens...</td>\n",
       "      <td>Marvel Studios</td>\n",
       "      <td>English, Hindi, Russian</td>\n",
       "      <td>Loki, the adopted brother of Thor, teams-up wi...</td>\n",
       "      <td>The Asgardian Loki (Tom Hiddleston) encounters...</td>\n",
       "      <td>Action, Sci-Fi</td>\n",
       "      <td>Robert Downey Jr., Chris Evans, Mark Ruffalo, ...</td>\n",
       "      <td>Joss Whedon</td>\n",
       "      <td>8.0</td>\n",
       "      <td>1507612</td>\n",
       "      <td>2012</td>\n",
       "      <td>4</td>\n",
       "      <td>25</td>\n",
       "    </tr>\n",
       "  </tbody>\n",
       "</table>\n",
       "</div>"
      ],
      "text/plain": [
       "             title release_date     revenue  runtime    imdb_id  \\\n",
       "0        Inception   2010-07-15   825532764      148  tt1375666   \n",
       "1     Interstellar   2014-11-05   701729206      169  tt0816692   \n",
       "2  The Dark Knight   2008-07-16  1004558444      152  tt0468569   \n",
       "3           Avatar   2009-12-15  2923706026      162  tt0499549   \n",
       "4     The Avengers   2012-04-25  1518815515      143  tt0848228   \n",
       "\n",
       "  original_language                                           overview  \\\n",
       "0           English  Cobb, a skilled thief who commits corporate es...   \n",
       "1           English  The adventures of a group of explorers who mak...   \n",
       "2           English  Batman raises the stakes in his war on crime. ...   \n",
       "3           English  In the 22nd century, a paraplegic Marine is di...   \n",
       "4           English  When an unexpected enemy emerges and threatens...   \n",
       "\n",
       "                                production_companies  \\\n",
       "0  Legendary Pictures, Syncopy, Warner Bros. Pict...   \n",
       "1  Legendary Pictures, Syncopy, Lynda Obst Produc...   \n",
       "2  DC Comics, Legendary Pictures, Syncopy, Isobel...   \n",
       "3  Dune Entertainment, Lightstorm Entertainment, ...   \n",
       "4                                     Marvel Studios   \n",
       "\n",
       "                     spoken_languages  \\\n",
       "0  English, French, Japanese, Swahili   \n",
       "1                             English   \n",
       "2                   English, Mandarin   \n",
       "3                    English, Spanish   \n",
       "4             English, Hindi, Russian   \n",
       "\n",
       "                                        plot_summary  \\\n",
       "0  Dom Cobb is a skilled thief, the absolute best...   \n",
       "1  In the near future around the American Midwest...   \n",
       "2  Set within a year after the events of Batman B...   \n",
       "3  When his brother is killed in a robbery, parap...   \n",
       "4  Loki, the adopted brother of Thor, teams-up wi...   \n",
       "\n",
       "                                       plot_synopsis  \\\n",
       "0  Dominick \"Dom\" Cobb (Leonardo DiCaprio) and bu...   \n",
       "1  In the future, crop blight has caused civiliza...   \n",
       "2  A gang of 6 criminals rob a Gotham City mob ba...   \n",
       "3  In 2154, humans have depleted Earth's natural ...   \n",
       "4  The Asgardian Loki (Tom Hiddleston) encounters...   \n",
       "\n",
       "                                genres  \\\n",
       "0  Action, Adventure, Sci-Fi, Thriller   \n",
       "1             Adventure, Drama, Sci-Fi   \n",
       "2       Action, Crime, Drama, Thriller   \n",
       "3   Action, Adventure, Fantasy, Sci-Fi   \n",
       "4                       Action, Sci-Fi   \n",
       "\n",
       "                                                cast          directors  \\\n",
       "0  Leonardo DiCaprio, Joseph Gordon-Levitt, Ellio...  Christopher Nolan   \n",
       "1  Ellen Burstyn, Matthew McConaughey, Mackenzie ...  Christopher Nolan   \n",
       "2  Christian Bale, Heath Ledger, Aaron Eckhart, M...  Christopher Nolan   \n",
       "3  Sam Worthington, Zoe Saldaña, Sigourney Weaver...      James Cameron   \n",
       "4  Robert Downey Jr., Chris Evans, Mark Ruffalo, ...        Joss Whedon   \n",
       "\n",
       "   averageRating  numVotes  release_year  release_month  release_day  \n",
       "0            8.8   2681459          2010              7           15  \n",
       "1            8.7   2342692          2014             11            5  \n",
       "2            9.0   3018672          2008              7           16  \n",
       "3            7.9   1430332          2009             12           15  \n",
       "4            8.0   1507612          2012              4           25  "
      ]
     },
     "execution_count": 4,
     "metadata": {},
     "output_type": "execute_result"
    }
   ],
   "source": [
    "movies_df.head()"
   ]
  },
  {
   "cell_type": "code",
   "execution_count": 5,
   "id": "e37d3e3a",
   "metadata": {},
   "outputs": [
    {
     "data": {
      "text/plain": [
       "title                    object\n",
       "release_date             object\n",
       "revenue                   int64\n",
       "runtime                   int64\n",
       "imdb_id                  object\n",
       "original_language        object\n",
       "overview                 object\n",
       "production_companies     object\n",
       "spoken_languages         object\n",
       "plot_summary             object\n",
       "plot_synopsis            object\n",
       "genres                   object\n",
       "cast                     object\n",
       "directors                object\n",
       "averageRating           float64\n",
       "numVotes                  int64\n",
       "release_year              int64\n",
       "release_month             int64\n",
       "release_day               int64\n",
       "dtype: object"
      ]
     },
     "execution_count": 5,
     "metadata": {},
     "output_type": "execute_result"
    }
   ],
   "source": [
    "movies_df.dtypes"
   ]
  },
  {
   "cell_type": "code",
   "execution_count": 6,
   "id": "eb626dec",
   "metadata": {},
   "outputs": [],
   "source": [
    "movies_df['imdb_id'] = movies_df['imdb_id'].str.replace('tt', '')\n",
    "movies_df['release_date'] = pd.to_datetime(movies_df['release_date'], errors='coerce')"
   ]
  },
  {
   "cell_type": "code",
   "execution_count": 7,
   "id": "6787c203",
   "metadata": {},
   "outputs": [
    {
     "data": {
      "text/plain": [
       "(18506, 19)"
      ]
     },
     "execution_count": 7,
     "metadata": {},
     "output_type": "execute_result"
    }
   ],
   "source": [
    "movies_df.shape"
   ]
  },
  {
   "cell_type": "code",
   "execution_count": 8,
   "id": "67ae8d7f",
   "metadata": {},
   "outputs": [
    {
     "name": "stdout",
     "output_type": "stream",
     "text": [
      "Number of duplicate imdb_id entries: 0\n"
     ]
    }
   ],
   "source": [
    "duplicate_imdb_ids = movies_df[movies_df.duplicated(subset='imdb_id', keep=False)]\n",
    "print(f\"Number of duplicate imdb_id entries: {len(duplicate_imdb_ids)}\")"
   ]
  },
  {
   "cell_type": "code",
   "execution_count": 9,
   "id": "44214b6d",
   "metadata": {},
   "outputs": [
    {
     "name": "stdout",
     "output_type": "stream",
     "text": [
      "Number of movies released before 2000: 6161\n"
     ]
    }
   ],
   "source": [
    "# Filter movies released before 2000\n",
    "movies_before_2000 = movies_df[movies_df['release_date'] < '2000-01-01']\n",
    "\n",
    "# Count the number of such movies\n",
    "print(f\"Number of movies released before 2000: {len(movies_before_2000)}\")"
   ]
  },
  {
   "cell_type": "code",
   "execution_count": 10,
   "id": "c168e61a",
   "metadata": {},
   "outputs": [
    {
     "name": "stdout",
     "output_type": "stream",
     "text": [
      "Total rows before filtering by release date: 18506\n",
      "Total rows after filtering by release date: 12344\n"
     ]
    }
   ],
   "source": [
    "# Filter for movies released after 2000\n",
    "print(\"Total rows before filtering by release date:\", len(movies_df))\n",
    "# Filter for movies after 2000\n",
    "movies_df = movies_df[movies_df['release_date'] > '2000-01-01']\n",
    "print(\"Total rows after filtering by release date:\", len(movies_df))"
   ]
  },
  {
   "cell_type": "code",
   "execution_count": 11,
   "id": "2192cdc4",
   "metadata": {},
   "outputs": [
    {
     "data": {
      "text/plain": [
       "title                      0\n",
       "release_date               0\n",
       "revenue                    0\n",
       "runtime                    0\n",
       "imdb_id                    0\n",
       "original_language          0\n",
       "overview                   0\n",
       "production_companies     362\n",
       "spoken_languages          64\n",
       "plot_summary               0\n",
       "plot_synopsis           1149\n",
       "genres                     0\n",
       "cast                      20\n",
       "directors                 47\n",
       "averageRating              0\n",
       "numVotes                   0\n",
       "release_year               0\n",
       "release_month              0\n",
       "release_day                0\n",
       "dtype: int64"
      ]
     },
     "execution_count": 11,
     "metadata": {},
     "output_type": "execute_result"
    }
   ],
   "source": [
    "movies_df.isna().sum()"
   ]
  },
  {
   "cell_type": "code",
   "execution_count": 12,
   "id": "1a7e3566",
   "metadata": {},
   "outputs": [],
   "source": [
    "movies_df = movies_df.dropna()"
   ]
  },
  {
   "cell_type": "code",
   "execution_count": 13,
   "id": "d9742560",
   "metadata": {},
   "outputs": [
    {
     "data": {
      "text/plain": [
       "title                   0\n",
       "release_date            0\n",
       "revenue                 0\n",
       "runtime                 0\n",
       "imdb_id                 0\n",
       "original_language       0\n",
       "overview                0\n",
       "production_companies    0\n",
       "spoken_languages        0\n",
       "plot_summary            0\n",
       "plot_synopsis           0\n",
       "genres                  0\n",
       "cast                    0\n",
       "directors               0\n",
       "averageRating           0\n",
       "numVotes                0\n",
       "release_year            0\n",
       "release_month           0\n",
       "release_day             0\n",
       "dtype: int64"
      ]
     },
     "execution_count": 13,
     "metadata": {},
     "output_type": "execute_result"
    }
   ],
   "source": [
    "movies_df.isna().sum()"
   ]
  },
  {
   "cell_type": "code",
   "execution_count": 14,
   "id": "b6e08a54",
   "metadata": {},
   "outputs": [
    {
     "data": {
      "text/plain": [
       "(10922, 19)"
      ]
     },
     "execution_count": 14,
     "metadata": {},
     "output_type": "execute_result"
    }
   ],
   "source": [
    "movies_df.shape"
   ]
  },
  {
   "cell_type": "code",
   "execution_count": 15,
   "id": "6c3f9f4c",
   "metadata": {},
   "outputs": [],
   "source": [
    "# Save the processed DataFrame to a CSV file\n",
    "processed_dir = os.path.join('..', 'data', 'processed_data')\n",
    "os.makedirs(processed_dir, exist_ok=True)\n",
    "\n",
    "processed_path = os.path.join(processed_dir, 'tmdb_content_processed.csv')\n",
    "movies_df.to_csv(processed_path, index=False)"
   ]
  }
 ],
 "metadata": {
  "kernelspec": {
   "display_name": "dev_env",
   "language": "python",
   "name": "python3"
  },
  "language_info": {
   "codemirror_mode": {
    "name": "ipython",
    "version": 3
   },
   "file_extension": ".py",
   "mimetype": "text/x-python",
   "name": "python",
   "nbconvert_exporter": "python",
   "pygments_lexer": "ipython3",
   "version": "3.12.9"
  },
  "toc": {
   "base_numbering": 1,
   "nav_menu": {},
   "number_sections": true,
   "sideBar": true,
   "skip_h1_title": false,
   "title_cell": "Table of Contents",
   "title_sidebar": "Contents",
   "toc_cell": false,
   "toc_position": {},
   "toc_section_display": true,
   "toc_window_display": false
  }
 },
 "nbformat": 4,
 "nbformat_minor": 5
}
